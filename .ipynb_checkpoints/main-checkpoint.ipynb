{
 "cells": [
  {
   "cell_type": "code",
   "execution_count": 4,
   "metadata": {
    "collapsed": true
   },
   "outputs": [
    {
     "name": "stdout",
     "output_type": "stream",
     "text": [
      "[[0 0 0]\n",
      " [1 2 0]\n",
      " [0 0 1]]\n",
      "========================================\n",
      "  (1, 0)\t1\n",
      "  (1, 1)\t2\n",
      "  (2, 2)\t1\n",
      "========================================\n",
      "  (1, 0)\t1\n",
      "  (1, 1)\t2\n",
      "  (2, 2)\t1\n"
     ]
    }
   ],
   "source": [
    "import numpy as np\n",
    "from scipy.sparse import csr_matrix\n",
    "from scipy.sparse import csc_matrix\n",
    "\n",
    "m = np.array([[0,0,0],[1,2,0],[0,0,1]])\n",
    "matrix_csr = csr_matrix(m)\n",
    "matrix_csc = csc_matrix(m)\n",
    "print(m)\n",
    "print(\"========================================\")\n",
    "print(matrix_csr)\n",
    "print(\"========================================\")\n",
    "print(matrix_csc)"
   ]
  },
  {
   "cell_type": "code",
   "execution_count": 5,
   "metadata": {
    "pycharm": {
     "name": "#%%\n"
    }
   },
   "outputs": [
    {
     "name": "stdout",
     "output_type": "stream",
     "text": [
      "in the movie-100k datasets, there are 943 users and 1682 items !\n"
     ]
    }
   ],
   "source": [
    "import mv100\n",
    "\n",
    "train_list = mv100.mv1002list(\"./ml-100k/u.data\")\n",
    "rm = mv100.creat_matrix(train_list)\n",
    "print(\"in the movie-100k datasets, there are {} users and {} items !\".format(rm.shape[0],rm.shape[1]))"
   ]
  },
  {
   "cell_type": "code",
   "execution_count": 7,
   "metadata": {
    "pycharm": {
     "name": "#%%\n"
    }
   },
   "outputs": [
    {
     "name": "stdout",
     "output_type": "stream",
     "text": [
      "[[5 3 4 ... 0 0 0]\n",
      " [4 0 0 ... 0 0 0]\n",
      " [0 0 0 ... 0 0 0]\n",
      " ...\n",
      " [5 0 0 ... 0 0 0]\n",
      " [0 0 0 ... 0 0 0]\n",
      " [0 5 0 ... 0 0 0]]\n",
      "  (0, 0)\t5\n",
      "  (0, 1)\t3\n",
      "  (0, 2)\t4\n",
      "  (0, 3)\t3\n",
      "  (0, 4)\t3\n",
      "  (0, 5)\t5\n",
      "  (0, 6)\t4\n",
      "  (0, 7)\t1\n",
      "  (0, 8)\t5\n",
      "  (0, 9)\t3\n",
      "  (0, 10)\t2\n",
      "  (0, 11)\t5\n",
      "  (0, 12)\t5\n",
      "  (0, 13)\t5\n",
      "  (0, 14)\t5\n",
      "  (0, 15)\t5\n",
      "  (0, 16)\t3\n",
      "  (0, 17)\t4\n",
      "  (0, 18)\t5\n",
      "  (0, 19)\t4\n",
      "  (0, 20)\t1\n",
      "  (0, 21)\t4\n",
      "  (0, 22)\t4\n",
      "  (0, 23)\t3\n",
      "  (0, 24)\t4\n",
      "  :\t:\n",
      "  (942, 738)\t4\n",
      "  (942, 755)\t2\n",
      "  (942, 762)\t4\n",
      "  (942, 764)\t3\n",
      "  (942, 784)\t2\n",
      "  (942, 793)\t3\n",
      "  (942, 795)\t3\n",
      "  (942, 807)\t4\n",
      "  (942, 815)\t4\n",
      "  (942, 823)\t4\n",
      "  (942, 824)\t3\n",
      "  (942, 830)\t2\n",
      "  (942, 839)\t4\n",
      "  (942, 927)\t5\n",
      "  (942, 940)\t1\n",
      "  (942, 942)\t5\n",
      "  (942, 1010)\t2\n",
      "  (942, 1027)\t2\n",
      "  (942, 1043)\t3\n",
      "  (942, 1046)\t2\n",
      "  (942, 1066)\t2\n",
      "  (942, 1073)\t4\n",
      "  (942, 1187)\t3\n",
      "  (942, 1227)\t3\n",
      "  (942, 1329)\t3\n",
      "None\n"
     ]
    }
   ],
   "source": [
    "print(rm)\n",
    "rm_csr = csr_matrix(rm)\n",
    "print(rm_csr)"
   ]
  },
  {
   "cell_type": "markdown",
   "metadata": {
    "pycharm": {
     "name": "#%%\n"
    }
   },
   "source": [
    "##### calculate the time using scipy libaray csc(Compressed Sparse Column) and csr(Compressed Sparse Row)!"
   ]
  },
  {
   "cell_type": "code",
   "execution_count": null,
   "metadata": {},
   "outputs": [],
   "source": [
    "time_start = time.time()\n",
    "for i in rm_csr:"
   ]
  }
 ],
 "metadata": {
  "kernelspec": {
   "display_name": "Python 3 (ipykernel)",
   "language": "python",
   "name": "python3"
  },
  "language_info": {
   "codemirror_mode": {
    "name": "ipython",
    "version": 3
   },
   "file_extension": ".py",
   "mimetype": "text/x-python",
   "name": "python",
   "nbconvert_exporter": "python",
   "pygments_lexer": "ipython3",
   "version": "3.8.12"
  }
 },
 "nbformat": 4,
 "nbformat_minor": 1
}
