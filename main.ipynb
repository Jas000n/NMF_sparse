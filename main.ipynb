{
 "cells": [
  {
   "cell_type": "code",
   "execution_count": 71,
   "metadata": {
    "collapsed": true
   },
   "outputs": [
    {
     "name": "stdout",
     "output_type": "stream",
     "text": [
      "[[0 0 0]\n",
      " [1 2 0]\n",
      " [0 0 1]]\n",
      "========================================\n",
      "  (1, 0)\t1\n",
      "  (1, 1)\t2\n",
      "  (2, 2)\t1\n",
      "========================================\n",
      "  (1, 0)\t1\n",
      "  (1, 1)\t2\n",
      "  (2, 2)\t1\n"
     ]
    }
   ],
   "source": [
    "import numpy as np\n",
    "from scipy.sparse import csr_matrix\n",
    "from scipy.sparse import csc_matrix\n",
    "import time\n",
    "from numpy import *\n",
    "import numpy as np\n",
    "# np.set_printoptions(threshold=np.inf)\n",
    "m = np.array([[0,0,0],[1,2,0],[0,0,1]])\n",
    "matrix_csr = csr_matrix(m)\n",
    "matrix_csc = csc_matrix(m)\n",
    "print(m)\n",
    "print(\"========================================\")\n",
    "print(matrix_csr)\n",
    "print(\"========================================\")\n",
    "print(matrix_csc)"
   ]
  },
  {
   "cell_type": "code",
   "execution_count": 72,
   "metadata": {
    "pycharm": {
     "name": "#%%\n"
    }
   },
   "outputs": [
    {
     "name": "stdout",
     "output_type": "stream",
     "text": [
      "in the movie-100k datasets, there are 943 users and 1682 items !\n"
     ]
    }
   ],
   "source": [
    "import mv100\n",
    "\n",
    "train_list = mv100.mv1002list(\"./ml-100k/u.data\")\n",
    "rm = mv100.creat_matrix(train_list)\n",
    "print(\"in the movie-100k datasets, there are {} users and {} items !\".format(rm.shape[0],rm.shape[1]))"
   ]
  },
  {
   "cell_type": "code",
   "execution_count": 73,
   "metadata": {
    "pycharm": {
     "name": "#%%\n"
    }
   },
   "outputs": [
    {
     "name": "stdout",
     "output_type": "stream",
     "text": [
      "[[5 3 4 ... 0 0 0]\n",
      " [4 0 0 ... 0 0 0]\n",
      " [0 0 0 ... 0 0 0]\n",
      " ...\n",
      " [5 0 0 ... 0 0 0]\n",
      " [0 0 0 ... 0 0 0]\n",
      " [0 5 0 ... 0 0 0]]\n",
      "  (0, 0)\t5\n",
      "  (0, 1)\t3\n",
      "  (0, 2)\t4\n",
      "  (0, 3)\t3\n",
      "  (0, 4)\t3\n",
      "  (0, 5)\t5\n",
      "  (0, 6)\t4\n",
      "  (0, 7)\t1\n",
      "  (0, 8)\t5\n",
      "  (0, 9)\t3\n",
      "  (0, 10)\t2\n",
      "  (0, 11)\t5\n",
      "  (0, 12)\t5\n",
      "  (0, 13)\t5\n",
      "  (0, 14)\t5\n",
      "  (0, 15)\t5\n",
      "  (0, 16)\t3\n",
      "  (0, 17)\t4\n",
      "  (0, 18)\t5\n",
      "  (0, 19)\t4\n",
      "  (0, 20)\t1\n",
      "  (0, 21)\t4\n",
      "  (0, 22)\t4\n",
      "  (0, 23)\t3\n",
      "  (0, 24)\t4\n",
      "  :\t:\n",
      "  (942, 738)\t4\n",
      "  (942, 755)\t2\n",
      "  (942, 762)\t4\n",
      "  (942, 764)\t3\n",
      "  (942, 784)\t2\n",
      "  (942, 793)\t3\n",
      "  (942, 795)\t3\n",
      "  (942, 807)\t4\n",
      "  (942, 815)\t4\n",
      "  (942, 823)\t4\n",
      "  (942, 824)\t3\n",
      "  (942, 830)\t2\n",
      "  (942, 839)\t4\n",
      "  (942, 927)\t5\n",
      "  (942, 940)\t1\n",
      "  (942, 942)\t5\n",
      "  (942, 1010)\t2\n",
      "  (942, 1027)\t2\n",
      "  (942, 1043)\t3\n",
      "  (942, 1046)\t2\n",
      "  (942, 1066)\t2\n",
      "  (942, 1073)\t4\n",
      "  (942, 1187)\t3\n",
      "  (942, 1227)\t3\n",
      "  (942, 1329)\t3\n"
     ]
    }
   ],
   "source": [
    "print(rm)\n",
    "rm_csr = csr_matrix(rm)\n",
    "print(rm_csr)"
   ]
  },
  {
   "cell_type": "markdown",
   "metadata": {
    "pycharm": {
     "name": "#%%\n"
    }
   },
   "source": [
    "##### calculate the time using scipy libaray csc(Compressed Sparse Column) and csr(Compressed Sparse Row)!"
   ]
  },
  {
   "cell_type": "code",
   "execution_count": 74,
   "metadata": {},
   "outputs": [
    {
     "name": "stdout",
     "output_type": "stream",
     "text": [
      "2\n",
      "  (0, 0)\t4\n",
      "  (0, 9)\t2\n",
      "  (0, 12)\t4\n",
      "  (0, 13)\t4\n",
      "  (0, 18)\t3\n",
      "  (0, 24)\t4\n",
      "  (0, 49)\t5\n",
      "  (0, 99)\t5\n",
      "  (0, 110)\t4\n",
      "  (0, 126)\t5\n",
      "  (0, 236)\t4\n",
      "  (0, 241)\t5\n",
      "  (0, 250)\t5\n",
      "  (0, 254)\t4\n",
      "  (0, 256)\t4\n",
      "  (0, 257)\t3\n",
      "  (0, 268)\t4\n",
      "  (0, 271)\t5\n",
      "  (0, 272)\t4\n",
      "  (0, 273)\t3\n",
      "  (0, 274)\t5\n",
      "  (0, 275)\t4\n",
      "  (0, 276)\t4\n",
      "  (0, 277)\t3\n",
      "  (0, 278)\t4\n",
      "  :\t:\n",
      "  (0, 291)\t4\n",
      "  (0, 292)\t4\n",
      "  (0, 293)\t1\n",
      "  (0, 294)\t4\n",
      "  (0, 295)\t3\n",
      "  (0, 296)\t4\n",
      "  (0, 297)\t3\n",
      "  (0, 298)\t4\n",
      "  (0, 299)\t4\n",
      "  (0, 300)\t4\n",
      "  (0, 301)\t5\n",
      "  (0, 302)\t4\n",
      "  (0, 303)\t4\n",
      "  (0, 304)\t3\n",
      "  (0, 305)\t4\n",
      "  (0, 306)\t3\n",
      "  (0, 307)\t3\n",
      "  (0, 308)\t1\n",
      "  (0, 309)\t4\n",
      "  (0, 310)\t5\n",
      "  (0, 311)\t3\n",
      "  (0, 312)\t5\n",
      "  (0, 313)\t1\n",
      "  (0, 314)\t1\n",
      "  (0, 315)\t5\n"
     ]
    }
   ],
   "source": [
    "k = 20\n",
    "m = rm.shape[0]\n",
    "n = rm.shape[1]\n",
    "P = mat(random.random((m, k)))\n",
    "Q = mat(random.random((k, n)))\n",
    "time_start = time.time()\n",
    "print(rm_csr.__getitem__((10,10)))\n",
    "print(rm_csr.getrow(1))"
   ]
  },
  {
   "cell_type": "code",
   "execution_count": 75,
   "outputs": [
    {
     "name": "stdout",
     "output_type": "stream",
     "text": [
      "  (0, 0)\t5\n",
      "  (1, 0)\t3\n",
      "  (2, 0)\t4\n",
      "  (3, 0)\t3\n",
      "  (4, 0)\t3\n",
      "  (5, 0)\t5\n",
      "  (6, 0)\t4\n",
      "  (7, 0)\t1\n",
      "  (8, 0)\t5\n",
      "  (9, 0)\t3\n",
      "  (10, 0)\t2\n",
      "  (11, 0)\t5\n",
      "  (12, 0)\t5\n",
      "  (13, 0)\t5\n",
      "  (14, 0)\t5\n",
      "  (15, 0)\t5\n",
      "  (16, 0)\t3\n",
      "  (17, 0)\t4\n",
      "  (18, 0)\t5\n",
      "  (19, 0)\t4\n",
      "  (20, 0)\t1\n",
      "  (21, 0)\t4\n",
      "  (22, 0)\t4\n",
      "  (23, 0)\t3\n",
      "  (24, 0)\t4\n",
      "  :\t:\n",
      "  (738, 942)\t4\n",
      "  (755, 942)\t2\n",
      "  (762, 942)\t4\n",
      "  (764, 942)\t3\n",
      "  (784, 942)\t2\n",
      "  (793, 942)\t3\n",
      "  (795, 942)\t3\n",
      "  (807, 942)\t4\n",
      "  (815, 942)\t4\n",
      "  (823, 942)\t4\n",
      "  (824, 942)\t3\n",
      "  (830, 942)\t2\n",
      "  (839, 942)\t4\n",
      "  (927, 942)\t5\n",
      "  (940, 942)\t1\n",
      "  (942, 942)\t5\n",
      "  (1010, 942)\t2\n",
      "  (1027, 942)\t2\n",
      "  (1043, 942)\t3\n",
      "  (1046, 942)\t2\n",
      "  (1066, 942)\t2\n",
      "  (1073, 942)\t4\n",
      "  (1187, 942)\t3\n",
      "  (1227, 942)\t3\n",
      "  (1329, 942)\t3\n"
     ]
    }
   ],
   "source": [
    "rm_csrT = rm_csr.transpose()\n",
    "print(rm_csrT)"
   ],
   "metadata": {
    "collapsed": false,
    "pycharm": {
     "name": "#%%\n"
    }
   }
  },
  {
   "cell_type": "code",
   "execution_count": 76,
   "outputs": [
    {
     "name": "stdout",
     "output_type": "stream",
     "text": [
      "[   0    6   23   49  108  110  116  117  120  121  122  124  146  150\n",
      "  180  221  224  236  251  254  256  277  279  280  281  283  287  303\n",
      "  368  369  404  410  411  470  471  545  594  595  596  716  741  755\n",
      "  762  814  818  819  825  828  830  839  840  844  845  865  923  925\n",
      "  927  974  978 1008 1027 1033 1046 1050 1056 1092 1131]\n",
      "[   0    6   23   49  108  110  116  117  120  121  122  124  146  150\n",
      "  180  221  224  236  251  254  256  277  279  280  281  283  287  303\n",
      "  368  369  404  410  411  470  471  545  594  595  596  716  741  755\n",
      "  762  814  818  819  825  828  830  839  840  844  845  865  923  925\n",
      "  927  974  978 1008 1027 1033 1046 1050 1056 1092 1131]\n",
      "  (0, 0)\t612\n"
     ]
    }
   ],
   "source": [
    "row1 = rm_csr.getrow(100)\n",
    "col1 = rm_csrT.getcol(100)\n",
    "result = row1.dot(col1)\n",
    "print(row1.indices)\n",
    "print(col1.indices)\n",
    "print(result)"
   ],
   "metadata": {
    "collapsed": false,
    "pycharm": {
     "name": "#%%\n"
    }
   }
  },
  {
   "cell_type": "code",
   "execution_count": 77,
   "outputs": [
    {
     "name": "stdout",
     "output_type": "stream",
     "text": [
      "  (0, 0)\t5\n",
      "  (1, 0)\t3\n",
      "  (2, 0)\t4\n",
      "  (3, 0)\t3\n",
      "  (4, 0)\t3\n",
      "  (5, 0)\t5\n",
      "  (6, 0)\t4\n",
      "  (7, 0)\t1\n",
      "  (8, 0)\t5\n",
      "  (9, 0)\t3\n",
      "  (10, 0)\t2\n",
      "  (11, 0)\t5\n",
      "  (12, 0)\t5\n",
      "  (13, 0)\t5\n",
      "  (14, 0)\t5\n",
      "  (15, 0)\t5\n",
      "  (16, 0)\t3\n",
      "  (17, 0)\t4\n",
      "  (18, 0)\t5\n",
      "  (19, 0)\t4\n",
      "  (20, 0)\t1\n",
      "  (21, 0)\t4\n",
      "  (22, 0)\t4\n",
      "  (23, 0)\t3\n",
      "  (24, 0)\t4\n",
      "  :\t:\n",
      "  (738, 942)\t4\n",
      "  (755, 942)\t2\n",
      "  (762, 942)\t4\n",
      "  (764, 942)\t3\n",
      "  (784, 942)\t2\n",
      "  (793, 942)\t3\n",
      "  (795, 942)\t3\n",
      "  (807, 942)\t4\n",
      "  (815, 942)\t4\n",
      "  (823, 942)\t4\n",
      "  (824, 942)\t3\n",
      "  (830, 942)\t2\n",
      "  (839, 942)\t4\n",
      "  (927, 942)\t5\n",
      "  (940, 942)\t1\n",
      "  (942, 942)\t5\n",
      "  (1010, 942)\t2\n",
      "  (1027, 942)\t2\n",
      "  (1043, 942)\t3\n",
      "  (1046, 942)\t2\n",
      "  (1066, 942)\t2\n",
      "  (1073, 942)\t4\n",
      "  (1187, 942)\t3\n",
      "  (1227, 942)\t3\n",
      "  (1329, 942)\t3\n"
     ]
    }
   ],
   "source": [
    "rm_cscT = rm_csrT.tocsc()\n",
    "print(rm_cscT)"
   ],
   "metadata": {
    "collapsed": false,
    "pycharm": {
     "name": "#%%\n"
    }
   }
  },
  {
   "cell_type": "code",
   "execution_count": 78,
   "outputs": [
    {
     "ename": "KeyboardInterrupt",
     "evalue": "",
     "output_type": "error",
     "traceback": [
      "\u001B[0;31m---------------------------------------------------------------------------\u001B[0m",
      "\u001B[0;31mKeyboardInterrupt\u001B[0m                         Traceback (most recent call last)",
      "Input \u001B[0;32mIn [78]\u001B[0m, in \u001B[0;36m<cell line: 2>\u001B[0;34m()\u001B[0m\n\u001B[1;32m      1\u001B[0m time1 \u001B[38;5;241m=\u001B[39m time\u001B[38;5;241m.\u001B[39mtime()\n\u001B[1;32m      2\u001B[0m \u001B[38;5;28;01mfor\u001B[39;00m i \u001B[38;5;129;01min\u001B[39;00m \u001B[38;5;28mrange\u001B[39m(\u001B[38;5;241m0\u001B[39m,\u001B[38;5;241m10000\u001B[39m):\n\u001B[0;32m----> 3\u001B[0m     result \u001B[38;5;241m=\u001B[39m \u001B[43mrm_csr\u001B[49m\u001B[38;5;241;43m.\u001B[39;49m\u001B[43mdot\u001B[49m\u001B[43m(\u001B[49m\u001B[43mrm_csrT\u001B[49m\u001B[43m)\u001B[49m\n\u001B[1;32m      4\u001B[0m time2 \u001B[38;5;241m=\u001B[39m time\u001B[38;5;241m.\u001B[39mtime()\n\u001B[1;32m      5\u001B[0m \u001B[38;5;28mprint\u001B[39m(time2\u001B[38;5;241m-\u001B[39mtime1)\n",
      "File \u001B[0;32m/opt/anaconda3/envs/py3_8/lib/python3.8/site-packages/scipy/sparse/_base.py:413\u001B[0m, in \u001B[0;36mspmatrix.dot\u001B[0;34m(self, other)\u001B[0m\n\u001B[1;32m    400\u001B[0m \u001B[38;5;28;01mdef\u001B[39;00m \u001B[38;5;21mdot\u001B[39m(\u001B[38;5;28mself\u001B[39m, other):\n\u001B[1;32m    401\u001B[0m     \u001B[38;5;124;03m\"\"\"Ordinary dot product\u001B[39;00m\n\u001B[1;32m    402\u001B[0m \n\u001B[1;32m    403\u001B[0m \u001B[38;5;124;03m    Examples\u001B[39;00m\n\u001B[0;32m   (...)\u001B[0m\n\u001B[1;32m    411\u001B[0m \n\u001B[1;32m    412\u001B[0m \u001B[38;5;124;03m    \"\"\"\u001B[39;00m\n\u001B[0;32m--> 413\u001B[0m     \u001B[38;5;28;01mreturn\u001B[39;00m \u001B[38;5;28;43mself\u001B[39;49m\u001B[43m \u001B[49m\u001B[38;5;241;43m@\u001B[39;49m\u001B[43m \u001B[49m\u001B[43mother\u001B[49m\n",
      "File \u001B[0;32m/opt/anaconda3/envs/py3_8/lib/python3.8/site-packages/scipy/sparse/_base.py:620\u001B[0m, in \u001B[0;36mspmatrix.__matmul__\u001B[0;34m(self, other)\u001B[0m\n\u001B[1;32m    617\u001B[0m \u001B[38;5;28;01mif\u001B[39;00m isscalarlike(other):\n\u001B[1;32m    618\u001B[0m     \u001B[38;5;28;01mraise\u001B[39;00m \u001B[38;5;167;01mValueError\u001B[39;00m(\u001B[38;5;124m\"\u001B[39m\u001B[38;5;124mScalar operands are not allowed, \u001B[39m\u001B[38;5;124m\"\u001B[39m\n\u001B[1;32m    619\u001B[0m                      \u001B[38;5;124m\"\u001B[39m\u001B[38;5;124muse \u001B[39m\u001B[38;5;124m'\u001B[39m\u001B[38;5;124m*\u001B[39m\u001B[38;5;124m'\u001B[39m\u001B[38;5;124m instead\u001B[39m\u001B[38;5;124m\"\u001B[39m)\n\u001B[0;32m--> 620\u001B[0m \u001B[38;5;28;01mreturn\u001B[39;00m \u001B[38;5;28;43mself\u001B[39;49m\u001B[38;5;241;43m.\u001B[39;49m\u001B[43m_mul_dispatch\u001B[49m\u001B[43m(\u001B[49m\u001B[43mother\u001B[49m\u001B[43m)\u001B[49m\n",
      "File \u001B[0;32m/opt/anaconda3/envs/py3_8/lib/python3.8/site-packages/scipy/sparse/_base.py:534\u001B[0m, in \u001B[0;36mspmatrix._mul_dispatch\u001B[0;34m(self, other)\u001B[0m\n\u001B[1;32m    532\u001B[0m     \u001B[38;5;28;01mif\u001B[39;00m \u001B[38;5;28mself\u001B[39m\u001B[38;5;241m.\u001B[39mshape[\u001B[38;5;241m1\u001B[39m] \u001B[38;5;241m!=\u001B[39m other\u001B[38;5;241m.\u001B[39mshape[\u001B[38;5;241m0\u001B[39m]:\n\u001B[1;32m    533\u001B[0m         \u001B[38;5;28;01mraise\u001B[39;00m \u001B[38;5;167;01mValueError\u001B[39;00m(\u001B[38;5;124m'\u001B[39m\u001B[38;5;124mdimension mismatch\u001B[39m\u001B[38;5;124m'\u001B[39m)\n\u001B[0;32m--> 534\u001B[0m     \u001B[38;5;28;01mreturn\u001B[39;00m \u001B[38;5;28;43mself\u001B[39;49m\u001B[38;5;241;43m.\u001B[39;49m\u001B[43m_mul_sparse_matrix\u001B[49m\u001B[43m(\u001B[49m\u001B[43mother\u001B[49m\u001B[43m)\u001B[49m\n\u001B[1;32m    536\u001B[0m \u001B[38;5;66;03m# If it's a list or whatever, treat it like a matrix\u001B[39;00m\n\u001B[1;32m    537\u001B[0m other_a \u001B[38;5;241m=\u001B[39m np\u001B[38;5;241m.\u001B[39masanyarray(other)\n",
      "File \u001B[0;32m/opt/anaconda3/envs/py3_8/lib/python3.8/site-packages/scipy/sparse/_compressed.py:533\u001B[0m, in \u001B[0;36m_cs_matrix._mul_sparse_matrix\u001B[0;34m(self, other)\u001B[0m\n\u001B[1;32m    530\u001B[0m data \u001B[38;5;241m=\u001B[39m np\u001B[38;5;241m.\u001B[39mempty(nnz, dtype\u001B[38;5;241m=\u001B[39mupcast(\u001B[38;5;28mself\u001B[39m\u001B[38;5;241m.\u001B[39mdtype, other\u001B[38;5;241m.\u001B[39mdtype))\n\u001B[1;32m    532\u001B[0m fn \u001B[38;5;241m=\u001B[39m \u001B[38;5;28mgetattr\u001B[39m(_sparsetools, \u001B[38;5;28mself\u001B[39m\u001B[38;5;241m.\u001B[39mformat \u001B[38;5;241m+\u001B[39m \u001B[38;5;124m'\u001B[39m\u001B[38;5;124m_matmat\u001B[39m\u001B[38;5;124m'\u001B[39m)\n\u001B[0;32m--> 533\u001B[0m \u001B[43mfn\u001B[49m\u001B[43m(\u001B[49m\u001B[43mM\u001B[49m\u001B[43m,\u001B[49m\u001B[43m \u001B[49m\u001B[43mN\u001B[49m\u001B[43m,\u001B[49m\u001B[43m \u001B[49m\u001B[43mnp\u001B[49m\u001B[38;5;241;43m.\u001B[39;49m\u001B[43masarray\u001B[49m\u001B[43m(\u001B[49m\u001B[38;5;28;43mself\u001B[39;49m\u001B[38;5;241;43m.\u001B[39;49m\u001B[43mindptr\u001B[49m\u001B[43m,\u001B[49m\u001B[43m \u001B[49m\u001B[43mdtype\u001B[49m\u001B[38;5;241;43m=\u001B[39;49m\u001B[43midx_dtype\u001B[49m\u001B[43m)\u001B[49m\u001B[43m,\u001B[49m\n\u001B[1;32m    534\u001B[0m \u001B[43m   \u001B[49m\u001B[43mnp\u001B[49m\u001B[38;5;241;43m.\u001B[39;49m\u001B[43masarray\u001B[49m\u001B[43m(\u001B[49m\u001B[38;5;28;43mself\u001B[39;49m\u001B[38;5;241;43m.\u001B[39;49m\u001B[43mindices\u001B[49m\u001B[43m,\u001B[49m\u001B[43m \u001B[49m\u001B[43mdtype\u001B[49m\u001B[38;5;241;43m=\u001B[39;49m\u001B[43midx_dtype\u001B[49m\u001B[43m)\u001B[49m\u001B[43m,\u001B[49m\n\u001B[1;32m    535\u001B[0m \u001B[43m   \u001B[49m\u001B[38;5;28;43mself\u001B[39;49m\u001B[38;5;241;43m.\u001B[39;49m\u001B[43mdata\u001B[49m\u001B[43m,\u001B[49m\n\u001B[1;32m    536\u001B[0m \u001B[43m   \u001B[49m\u001B[43mnp\u001B[49m\u001B[38;5;241;43m.\u001B[39;49m\u001B[43masarray\u001B[49m\u001B[43m(\u001B[49m\u001B[43mother\u001B[49m\u001B[38;5;241;43m.\u001B[39;49m\u001B[43mindptr\u001B[49m\u001B[43m,\u001B[49m\u001B[43m \u001B[49m\u001B[43mdtype\u001B[49m\u001B[38;5;241;43m=\u001B[39;49m\u001B[43midx_dtype\u001B[49m\u001B[43m)\u001B[49m\u001B[43m,\u001B[49m\n\u001B[1;32m    537\u001B[0m \u001B[43m   \u001B[49m\u001B[43mnp\u001B[49m\u001B[38;5;241;43m.\u001B[39;49m\u001B[43masarray\u001B[49m\u001B[43m(\u001B[49m\u001B[43mother\u001B[49m\u001B[38;5;241;43m.\u001B[39;49m\u001B[43mindices\u001B[49m\u001B[43m,\u001B[49m\u001B[43m \u001B[49m\u001B[43mdtype\u001B[49m\u001B[38;5;241;43m=\u001B[39;49m\u001B[43midx_dtype\u001B[49m\u001B[43m)\u001B[49m\u001B[43m,\u001B[49m\n\u001B[1;32m    538\u001B[0m \u001B[43m   \u001B[49m\u001B[43mother\u001B[49m\u001B[38;5;241;43m.\u001B[39;49m\u001B[43mdata\u001B[49m\u001B[43m,\u001B[49m\n\u001B[1;32m    539\u001B[0m \u001B[43m   \u001B[49m\u001B[43mindptr\u001B[49m\u001B[43m,\u001B[49m\u001B[43m \u001B[49m\u001B[43mindices\u001B[49m\u001B[43m,\u001B[49m\u001B[43m \u001B[49m\u001B[43mdata\u001B[49m\u001B[43m)\u001B[49m\n\u001B[1;32m    541\u001B[0m \u001B[38;5;28;01mreturn\u001B[39;00m \u001B[38;5;28mself\u001B[39m\u001B[38;5;241m.\u001B[39m\u001B[38;5;18m__class__\u001B[39m((data, indices, indptr), shape\u001B[38;5;241m=\u001B[39m(M, N))\n",
      "\u001B[0;31mKeyboardInterrupt\u001B[0m: "
     ]
    }
   ],
   "source": [
    "time1 = time.time()\n",
    "for i in range(0,10000):\n",
    "    result = rm_csr.dot(rm_csrT)\n",
    "time2 = time.time()\n",
    "print(time2-time1)"
   ],
   "metadata": {
    "collapsed": false,
    "pycharm": {
     "name": "#%%\n"
    }
   }
  },
  {
   "cell_type": "code",
   "execution_count": null,
   "outputs": [],
   "source": [
    "time3 = time.time()\n",
    "for i in range(0,10000):\n",
    "    result = rm_csr.dot(rm_cscT)\n",
    "time4 = time.time()\n",
    "print(time4-time3)"
   ],
   "metadata": {
    "collapsed": false,
    "pycharm": {
     "name": "#%%\n"
    }
   }
  },
  {
   "cell_type": "code",
   "execution_count": null,
   "outputs": [],
   "source": [
    "nonzero_rows = rm_csr.nonzero()[0]\n",
    "nonzero_cols = rm_csr.nonzero()[1]\n",
    "print(rm_csr.__getitem__((nonzero_rows[1000],nonzero_cols[1000])))"
   ],
   "metadata": {
    "collapsed": false,
    "pycharm": {
     "name": "#%%\n"
    }
   }
  },
  {
   "cell_type": "code",
   "execution_count": null,
   "outputs": [],
   "source": [],
   "metadata": {
    "collapsed": false,
    "pycharm": {
     "name": "#%%\n"
    }
   }
  },
  {
   "cell_type": "code",
   "execution_count": null,
   "outputs": [],
   "source": [
    "from scipy.sparse import lil_matrix\n",
    "\n",
    "x = lil_matrix( (20,1) )\n",
    "print(x)"
   ],
   "metadata": {
    "collapsed": false,
    "pycharm": {
     "name": "#%%\n"
    }
   }
  },
  {
   "cell_type": "code",
   "execution_count": 63,
   "outputs": [],
   "source": [],
   "metadata": {
    "collapsed": false,
    "pycharm": {
     "name": "#%%\n"
    }
   }
  },
  {
   "cell_type": "code",
   "execution_count": 63,
   "outputs": [
    {
     "ename": "TypeError",
     "evalue": "'coo_matrix' object is not subscriptable",
     "output_type": "error",
     "traceback": [
      "\u001B[0;31m---------------------------------------------------------------------------\u001B[0m",
      "\u001B[0;31mTypeError\u001B[0m                                 Traceback (most recent call last)",
      "Input \u001B[0;32mIn [63]\u001B[0m, in \u001B[0;36m<cell line: 3>\u001B[0;34m()\u001B[0m\n\u001B[1;32m      1\u001B[0m non_zero_rows \u001B[38;5;241m=\u001B[39m rm_coo\u001B[38;5;241m.\u001B[39mnonzero()[\u001B[38;5;241m0\u001B[39m]\n\u001B[1;32m      2\u001B[0m non_zero_cols \u001B[38;5;241m=\u001B[39m rm_coo\u001B[38;5;241m.\u001B[39mnonzero()[\u001B[38;5;241m1\u001B[39m]\n\u001B[0;32m----> 3\u001B[0m \u001B[38;5;28mprint\u001B[39m(\u001B[43mrm_coo\u001B[49m\u001B[43m[\u001B[49m\u001B[38;5;241;43m0\u001B[39;49m\u001B[43m]\u001B[49m[\u001B[38;5;241m0\u001B[39m])\n",
      "\u001B[0;31mTypeError\u001B[0m: 'coo_matrix' object is not subscriptable"
     ]
    }
   ],
   "source": [
    "non_zero_rows = rm_coo.nonzero()[0]\n",
    "non_zero_cols = rm_coo.nonzero()[1]\n",
    "print(rm_coo)"
   ],
   "metadata": {
    "collapsed": false,
    "pycharm": {
     "name": "#%%\n"
    }
   }
  }
 ],
 "metadata": {
  "kernelspec": {
   "display_name": "Python 3 (ipykernel)",
   "language": "python",
   "name": "python3"
  },
  "language_info": {
   "codemirror_mode": {
    "name": "ipython",
    "version": 3
   },
   "file_extension": ".py",
   "mimetype": "text/x-python",
   "name": "python",
   "nbconvert_exporter": "python",
   "pygments_lexer": "ipython3",
   "version": "3.8.12"
  }
 },
 "nbformat": 4,
 "nbformat_minor": 1
}